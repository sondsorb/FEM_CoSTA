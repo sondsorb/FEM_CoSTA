{
 "cells": [
  {
   "cell_type": "markdown",
   "metadata": {},
   "source": [
    "# Note: this does not seem to work prperly, and is discontinued 1.nov21.\n",
    "\n",
    "# CoSTA experimental notebook\n",
    "The goal in this notebook is to reproduce results similar to Sindre Blakseths paper about CoSTA\n",
    "## Contents:\n",
    "- Imports and configs\n",
    "- Data preparation\n",
    "- Model training"
   ]
  },
  {
   "cell_type": "markdown",
   "metadata": {},
   "source": [
    "## Imports and configs"
   ]
  },
  {
   "cell_type": "code",
   "execution_count": 1,
   "metadata": {},
   "outputs": [
    {
     "name": "stderr",
     "output_type": "stream",
     "text": [
      "2021-11-01 14:58:34.449253: W tensorflow/stream_executor/platform/default/dso_loader.cc:64] Could not load dynamic library 'libcudart.so.11.0'; dlerror: libcudart.so.11.0: cannot open shared object file: No such file or directory\n",
      "2021-11-01 14:58:34.449279: I tensorflow/stream_executor/cuda/cudart_stub.cc:29] Ignore above cudart dlerror if you do not have a GPU set up on your machine.\n"
     ]
    }
   ],
   "source": [
    "import numpy as np\n",
    "from matplotlib import pyplot as plt\n",
    "import tensorflow as tf\n",
    "import pandas as pd\n",
    "\n",
    "import FEM\n",
    "import functions"
   ]
  },
  {
   "cell_type": "code",
   "execution_count": 2,
   "metadata": {},
   "outputs": [],
   "source": [
    "### Configs for the notebook, changeable\n",
    "\n",
    "# Modelling\n",
    "p=1 # element polynomial order\n",
    "sol=3 # solution index\n",
    "Ne = 20 # number of elements (spacial)\n",
    "T = 5 # Max time\n",
    "time_steps = 500 # Number of time steps\n",
    "k = T/time_steps # time step length\n",
    "alpha_train = [.1,.2,.3,.4,.5,.6,.9,1,1.2,1.3,1.4,1.6,1.7,1.8,1.9,2]\n",
    "alpha_val = [.8,1.1]\n",
    "alpha_test = [.7,1.5]\n",
    "use_unknown_source = True\n",
    "\n",
    "# NN architecture\n",
    "hidden_layers = 3\n",
    "hidden_layar_depth = 20\n",
    "learning_rate = 1e-5\n",
    "patience = 20\n",
    "lrelu_slope = 0.01\n",
    "neck_feats = 0\n",
    "normalize = 1\n",
    "\n",
    "# Other\n",
    "extra_label = '' # string to add on csv file name to not avoid overwriting when experimenting\n",
    "\n",
    "\n",
    "\n",
    "### Constants\n",
    "tri = np.linspace(0,1,Ne+1)\n",
    "csv_folder = '../preproject/csvs/'\n",
    "zero_fnc = lambda x,t=1: x*0"
   ]
  },
  {
   "cell_type": "markdown",
   "metadata": {},
   "source": [
    "## Data prep\n",
    "Making the data sets takes some time, so if this is done already, skip and load below"
   ]
  },
  {
   "cell_type": "code",
   "execution_count": 3,
   "metadata": {},
   "outputs": [],
   "source": [
    "### Make data sets\n",
    "\n",
    "def data_set(alphas):\n",
    "    '''This function makes data set for ham and pnn training/validation with alphas as given\n",
    "    give alpha_train for training data etc.\n",
    "    Data is not shuffled or normalized, nor split in input/output, that should be done later'''\n",
    "    ham_data = np.zeros((len(alphas)*time_steps, Ne+1+neck_feats + Ne-1)) #Ne+1 for X, Ne-1 for Y\n",
    "    pnn_data = np.zeros((len(alphas)*time_steps, Ne+1+neck_feats + Ne-1)) #Ne+1 for X, Ne-1 for Y\n",
    "    for i, alpha in enumerate(alphas):\n",
    "        f, u_ex = functions.sbmfact(T,alpha)[sol]\n",
    "        if use_unknown_source:\n",
    "            f = zero_fnc\n",
    "        \n",
    "        for t in range(time_steps):\n",
    "            \n",
    "            # we set the pnn_data as the exact temperature u_ex\n",
    "            pnn_data[time_steps*i + t, :Ne+1] = u_ex(x=tri, t=t*k) # input: exact solution\n",
    "            if neck_feats >=1:\n",
    "                pnn_data[time_steps*i + t, Ne+1] = t*k\n",
    "                ham_data[time_steps*i + t, Ne+1] = t*k\n",
    "            if neck_feats >=2:\n",
    "                pnn_data[time_steps*i + t, Ne+2] = alpha\n",
    "                ham_data[time_steps*i + t, Ne+2] = alpha\n",
    "\n",
    "            pnn_data[time_steps*i + t, Ne+1+neck_feats:] = u_ex(x=tri[1:-1], t=(t+1)*k) # outout: inner nodes, next step\n",
    "\n",
    "            #'''\n",
    "            # For the ham data it is more complicated.\n",
    "            fem_model = FEM.Heat(tri,f,p,u_ex,k) # We start by definint a FEM heat model for the step\n",
    "            fem_model.time = t*k # overwrite time to current time\n",
    "            u_prev = u_ex(x=tri, t=t*k)\n",
    "            fem_model.u_fem = u_prev # set fem_model_input (previus step) to exact values\n",
    "            fem_model.step() # make a step with the model\n",
    "            ham_data[time_steps*i + t, :Ne+1] = fem_model.u_fem\n",
    "            b = fem_model.M@u_prev+fem_model.F*fem_model.k\n",
    "            u_new_exact = u_ex(x=tri, t=(t+1)*k)\n",
    "            sigma_corr = np.dot(fem_model.MA, u_new_exact) - b\n",
    "\n",
    "            '''\n",
    "            # Test the corrected source term\n",
    "            fem_model = FEM.Heat(tri,f,p,u_ex,k) # We start by definint a FEM heat model for the step\n",
    "            u_prev = u_ex(x=tri, t=t*k)\n",
    "            fem_model.u_fem = u_prev # set fem_model_input (previus step) to exact values\n",
    "            # Step:\n",
    "            fem_model.time = (t+1)*k\n",
    "            M,A,F = fem_model.discretize() # = __discretize(), now removed\n",
    "            fem_model.F = F\n",
    "            fem_model.M = M\n",
    "            fem_model.MA = M+A*k\n",
    "            fem_model.adb() # = __add_Dirichelt_bdry(), now removed\n",
    "            u_fem = np.linalg.solve(fem_model.MA, M@u_prev+fem_model.F*k+sigma_corr) #Solve system\n",
    "\n",
    "            assert (u_new_exact - u_fem) @ (u_new_exact - u_fem)**2 < 1e-10\n",
    "\n",
    "            ham_data[time_steps*i + t, Ne+1:] = sigma_corr[1:-1] / fem_model.k\n",
    "            \n",
    "            '''\n",
    "            # For the ham data it is more complicated.\n",
    "\n",
    "\n",
    "            error = u_new_exact - fem_model.u_fem # error of fem prediction\n",
    "            residual = fem_model.MA @ error\n",
    "            ham_data[time_steps*i + t, Ne+1+neck_feats:] = residual[1:-1] # set output to residual\n",
    "\n",
    "            assert (sigma_corr[1:-1] - residual[1:-1]) @ (sigma_corr[1:-1] - residual[1:-1]) < 1e-14 # the two ways of getting output is equivalent\n",
    "            #'''\n",
    "    return ham_data, pnn_data\n",
    "\n",
    "ham_train_data, pnn_train_data = data_set(alpha_test)\n",
    "ham_val_data, pnn_val_data = data_set(alpha_val)\n",
    "\n",
    "df_ham_train = pd.DataFrame(ham_train_data, columns=[*[f'i{x}' for x in tri],*[f'nf{i}' for i in np.arange(neck_feats)], *[f'o{x}' for x in tri[1:-1]]])\n",
    "df_pnn_train = pd.DataFrame(pnn_train_data, columns=[*[f'i{x}' for x in tri],*[f'nf{i}' for i in np.arange(neck_feats)], *[f'o{x}' for x in tri[1:-1]]])\n",
    "df_ham_val = pd.DataFrame(ham_val_data, columns=[*[f'i{x}' for x in tri],*[f'nf{i}' for i in np.arange(neck_feats)], *[f'o{x}' for x in tri[1:-1]]])\n",
    "df_pnn_val = pd.DataFrame(pnn_val_data, columns=[*[f'i{x}' for x in tri],*[f'nf{i}' for i in np.arange(neck_feats)], *[f'o{x}' for x in tri[1:-1]]])\n",
    "\n",
    "#df_ham_train.to_csv(csv_folder+f'ham_train_N{Ne}_ts{time_steps}'+extra_label+'.csv', index = False)\n",
    "#df_pnn_train.to_csv(csv_folder+f'ham_train_N{Ne}_ts{time_steps}'+extra_label+'.csv', index = False)\n"
   ]
  },
  {
   "cell_type": "code",
   "execution_count": 4,
   "metadata": {},
   "outputs": [
    {
     "name": "stdout",
     "output_type": "stream",
     "text": [
      "1.9062302166305127\n",
      "1.8959659291108133\n",
      "0.013865740527525174\n",
      "0.017367180948398207\n",
      "-0.0006377607797433486\n",
      "1.8859413220910881\n",
      "1.9054582007224156e-06\n",
      "0.017441392053632414\n"
     ]
    }
   ],
   "source": [
    "### Load data sets\n",
    "#df_ham_train = pd.read_csv(csv_folder+f'ham_train_N{Ne}_ts{time_steps}'+extra_label+'.csv')\n",
    "#df_pnn_train = pd.read_csv(csv_folder+f'ham_train_N{Ne}_ts{time_steps}'+extra_label+'.csv')\n",
    "\n",
    "### make data sets ready:\n",
    "\n",
    "# As long as val and train is the same alphas, we use the same data\n",
    "#if alpha_val == alpha_train:\n",
    "#    df_ham_val = df_ham_train.copy()\n",
    "#    df_pnn_val = df_pnn_train.copy()\n",
    "\n",
    "# Shuffle\n",
    "df_ham_train = df_ham_train.sample(frac=1)\n",
    "df_pnn_train = df_pnn_train.sample(frac=1)\n",
    "df_ham_val = df_ham_val.sample(frac=1)\n",
    "df_pnn_val = df_pnn_val.sample(frac=1)\n",
    "\n",
    "# Get numpy arrays\n",
    "ham_train = df_ham_train.values\n",
    "pnn_train = df_pnn_train.values\n",
    "ham_val = df_ham_val.values\n",
    "pnn_val = df_pnn_val.values\n",
    "\n",
    "# Split intp input (X) and output (Y)\n",
    "ham_train_X = ham_train[:, :Ne+1+neck_feats]\n",
    "ham_train_Y = ham_train[:, Ne+1+neck_feats:]\n",
    "ham_val_X = ham_val[:, :Ne+1+neck_feats]\n",
    "ham_val_Y = ham_val[:, Ne+1+neck_feats:]\n",
    "pnn_train_X = pnn_train[:, :Ne+1+neck_feats]\n",
    "pnn_train_Y = pnn_train[:, Ne+1+neck_feats:]\n",
    "pnn_val_X = pnn_val[:, :Ne+1+neck_feats]\n",
    "pnn_val_Y = pnn_val[:, Ne+1+neck_feats:]\n",
    "\n",
    "'''\n",
    "# Normalize, for each input\n",
    "if normalize:\n",
    "    ham_mean= ham_train_X.mean(0)\n",
    "    ham_var = ham_train_X.var(0)\n",
    "    pnn_mean= pnn_train_X.mean(0)\n",
    "    pnn_var = pnn_train_X.var(0)\n",
    "    print(ham_var)\n",
    "    print(pnn_var)\n",
    "    epsilon = 0.01\n",
    "    for i in range(Ne+1):\n",
    "        ham_train_X[:,i] = (ham_train_X[:,i]-ham_mean[i]) / (ham_var[i]+epsilon)**0.5\n",
    "        ham_val_X[:,i] = (ham_val_X[:,i]-ham_mean[i]) / (ham_var[i]+epsilon)**0.5\n",
    "        pnn_train_X[:,i] = (pnn_train_X[:,i]-pnn_mean[i]) / (pnn_var[i]+epsilon)**0.5\n",
    "        pnn_val_X[:,i] = (pnn_val_X[:,i]-pnn_mean[i]) / (pnn_var[i]+epsilon)**0.5\n",
    "'''\n",
    "if normalize:\n",
    "    ham_mean= ham_train_X.mean()\n",
    "    ham_var = ham_train_X.var()\n",
    "    pnn_mean= pnn_train_X.mean()\n",
    "    pnn_var = pnn_train_X.var()\n",
    "    ham_mean_Y= ham_train_Y.mean()\n",
    "    ham_var_Y = ham_train_Y.var()\n",
    "    pnn_mean_Y= pnn_train_Y.mean()\n",
    "    pnn_var_Y = pnn_train_Y.var()\n",
    "    print(ham_mean)\n",
    "    print(pnn_mean)\n",
    "    print(ham_var)\n",
    "    print(pnn_var)\n",
    "    print(ham_mean_Y)\n",
    "    print(pnn_mean_Y)\n",
    "    print(ham_var_Y)\n",
    "    print(pnn_var_Y)\n",
    "    epsilon = 0.01\n",
    "    ham_train_X = (ham_train_X-ham_mean) / (ham_var+epsilon)**0.5\n",
    "    ham_val_X = (ham_val_X-ham_mean) / (ham_var+epsilon)**0.5\n",
    "    pnn_train_X = (pnn_train_X-pnn_mean) / (pnn_var+epsilon)**0.5\n",
    "    pnn_val_X = (pnn_val_X-pnn_mean) / (pnn_var+epsilon)**0.5\n",
    "    ham_train_Y = (ham_train_Y-ham_mean_Y) / (ham_var_Y+epsilon)**0.5\n",
    "    ham_val_Y = (ham_val_Y-ham_mean_Y) / (ham_var_Y+epsilon)**0.5\n",
    "    pnn_train_Y = (pnn_train_Y-pnn_mean_Y) / (pnn_var_Y+epsilon)**0.5\n",
    "    pnn_val_Y = (pnn_val_Y-pnn_mean_Y) / (pnn_var_Y+epsilon)**0.5"
   ]
  },
  {
   "cell_type": "markdown",
   "metadata": {},
   "source": [
    "## Model initialisation and training"
   ]
  },
  {
   "cell_type": "code",
   "execution_count": 5,
   "metadata": {},
   "outputs": [
    {
     "name": "stderr",
     "output_type": "stream",
     "text": [
      "2021-11-01 14:58:45.946516: W tensorflow/stream_executor/platform/default/dso_loader.cc:64] Could not load dynamic library 'libcuda.so.1'; dlerror: libcuda.so.1: cannot open shared object file: No such file or directory\n",
      "2021-11-01 14:58:45.946543: W tensorflow/stream_executor/cuda/cuda_driver.cc:269] failed call to cuInit: UNKNOWN ERROR (303)\n",
      "2021-11-01 14:58:45.946563: I tensorflow/stream_executor/cuda/cuda_diagnostics.cc:156] kernel driver does not appear to be running on this host (vivus): /proc/driver/nvidia/version does not exist\n",
      "2021-11-01 14:58:45.946799: I tensorflow/core/platform/cpu_feature_guard.cc:142] This TensorFlow binary is optimized with oneAPI Deep Neural Network Library (oneDNN) to use the following CPU instructions in performance-critical operations:  AVX2 FMA\n",
      "To enable them in other operations, rebuild TensorFlow with the appropriate compiler flags.\n"
     ]
    }
   ],
   "source": [
    "def get_model():\n",
    "\n",
    "    if neck_feats == 0:\n",
    "        inputs = tf.keras.Input(shape=(Ne+1))\n",
    "        x = inputs\n",
    "        x = tf.keras.layers.LeakyReLU(alpha=lrelu_slope)(x)\n",
    "        for h in range(hidden_layers):\n",
    "            x = tf.keras.layers.Dense(hidden_layar_depth)(x)\n",
    "            x = tf.keras.layers.LeakyReLU(alpha=lrelu_slope)(x)\n",
    "        x = tf.keras.layers.Dense(Ne-1)(x)\n",
    "        model = tf.keras.Model(inputs,x)\n",
    "        model.compile(loss='mse', optimizer = tf.keras.optimizers.Adam(learning_rate=learning_rate))\n",
    "\n",
    "    if neck_feats > 0:\n",
    "        inputs = tf.keras.Input(shape=(Ne+1))\n",
    "        x = inputs\n",
    "        for depth in [20,20,12,8]:\n",
    "            x = tf.keras.layers.Dense(depth)(x)\n",
    "            x = tf.keras.layers.LeakyReLU(alpha=lrelu_slope)(x)\n",
    "        model = tf.keras.Model(inputs,x)\n",
    "\n",
    "        inputs = tf.keras.Input(shape=(neck_feats))\n",
    "        x = inputs\n",
    "        neck_input_model = tf.keras.Model(inputs,x)\n",
    "\n",
    "        combined_input = tf.keras.layers.concatenate([model.output, neck_input_model.output])\n",
    "        x = tf.keras.layers.Dense(7)(combined_input)\n",
    "        x = tf.keras.layers.Dense(13)(combined_input)\n",
    "        x = tf.keras.layers.Dense(Ne-1)(x)\n",
    "\n",
    "        model = tf.keras.Model(inputs = [model.input, neck_input_model.input], outputs = x)\n",
    "        model.compile(loss='mse', optimizer = tf.keras.optimizers.Adam(learning_rate=10*learning_rate))\n",
    "    return model\n",
    "\n",
    "hamNN = get_model()\n",
    "pureNN = get_model()"
   ]
  },
  {
   "cell_type": "code",
   "execution_count": 6,
   "metadata": {},
   "outputs": [
    {
     "name": "stdout",
     "output_type": "stream",
     "text": [
      "[(1000, 21), (1000, 0)] (1000, 19)\n",
      "[(1000, 21), (1000, 0)] (1000, 19)\n"
     ]
    }
   ],
   "source": [
    "print([pnn_train_X[:,:Ne+1].shape, pnn_train_X[:,Ne+1:].shape], pnn_train_Y.shape)\n",
    "\n",
    "print([ham_train_X[:,:Ne+1].shape, ham_train_X[:,Ne+1:].shape], ham_train_Y.shape)"
   ]
  },
  {
   "cell_type": "code",
   "execution_count": 7,
   "metadata": {},
   "outputs": [
    {
     "name": "stderr",
     "output_type": "stream",
     "text": [
      "2021-11-01 14:58:46.137942: I tensorflow/compiler/mlir/mlir_graph_optimization_pass.cc:185] None of the MLIR Optimization Passes are enabled (registered 2)\n"
     ]
    },
    {
     "data": {
      "image/png": "[encoded data removed]",
      "text/plain": [
       "<Figure size 432x288 with 1 Axes>"
      ]
     },
     "metadata": {
      "needs_background": "light"
     },
     "output_type": "display_data"
    }
   ],
   "source": [
    "if neck_feats == 0:\n",
    "    ham_hist = hamNN.fit(x=ham_train_X, y=ham_train_Y, epochs=800, verbose=0, batch_size = 32,  validation_data=(ham_val_X, ham_val_Y))#, epochs=500)\n",
    "    #pnn_hist = pureNN.fit(x=pnn_train_X, y=pnn_train_Y, epochs=200, verbose=0, batch_size = 32,  validation_data=(pnn_val_X, pnn_val_Y))#, epochs=500)\n",
    "else:\n",
    "    #pnn_hist =pureNN.fit(x=[pnn_train_X[:,:Ne+1], pnn_train_X[:,Ne+1:]], y=pnn_train_Y, epochs=200, verbose=0, batch_size = 32,  validation_data=([pnn_val_X[:,:Ne+1], pnn_val_X[:,Ne+1:]], pnn_val_Y))#, epochs=500)\n",
    "    ham_hist = hamNN.fit(x=[ham_train_X[:,:Ne+1], ham_train_X[:,Ne+1:]], y=ham_train_Y, epochs=200, verbose=0, batch_size = 32,  validation_data=([ham_val_X[:,:Ne+1], ham_val_X[:,Ne+1:]], ham_val_Y))#, epochs=500)\n",
    "\n",
    "\n",
    "if 0: #ignore pnn for now\n",
    "    epochs_vector = np.arange(1, len(pnn_hist.history['loss'])+1)\n",
    "    plt.plot(epochs_vector, pnn_hist.history['loss'], 'k--', label='train')\n",
    "    plt.plot(epochs_vector, pnn_hist.history['val_loss'], 'r', label='valid')\n",
    "    plt.yscale('log')\n",
    "    plt.grid()\n",
    "    plt.legend(title='loss')\n",
    "    plt.show()\n",
    "\n",
    "epochs_vector = np.arange(1, len(ham_hist.history['loss'])+1)\n",
    "plt.plot(epochs_vector, ham_hist.history['loss'], 'k--', label='train')\n",
    "plt.plot(epochs_vector, ham_hist.history['val_loss'], 'r', label='valid')\n",
    "plt.yscale('log')\n",
    "plt.grid()\n",
    "plt.legend(title='loss')\n",
    "plt.show()"
   ]
  },
  {
   "cell_type": "markdown",
   "metadata": {},
   "source": [
    "## Testing"
   ]
  },
  {
   "cell_type": "code",
   "execution_count": 8,
   "metadata": {},
   "outputs": [
    {
     "data": {
      "image/png": "[encoded data removed]",
      "text/plain": [
       "<Figure size 432x288 with 1 Axes>"
      ]
     },
     "metadata": {
      "needs_background": "light"
     },
     "output_type": "display_data"
    },
    {
     "data": {
      "image/png": "[encoded data removed]",
      "text/plain": [
       "<Figure size 432x288 with 1 Axes>"
      ]
     },
     "metadata": {
      "needs_background": "light"
     },
     "output_type": "display_data"
    }
   ],
   "source": [
    "# HAM\n",
    "for alpha in alpha_test:\n",
    "    f, u_ex = functions.sbmfact(T,alpha)[sol]\n",
    "    if use_unknown_source:\n",
    "        f = zero_fnc\n",
    "\n",
    "    u = u_ex(x=tri, t=0)\n",
    "\n",
    "    fem_model = FEM.Heat(tri,f,1,u_ex,k)\n",
    "\n",
    "    for t in range(time_steps):\n",
    "        u_prev = u # set u_prev (used as fem_model input) as the previous step\n",
    "        fem_model.time = t*k\n",
    "        fem_model.u_fem = u_prev\n",
    "        fem_model.step()\n",
    "        #u = u_ex(t=(t+1)*k, x = tri) # set the next u (only boundary is kept, the rest is overwritten)\n",
    "        u_fem = fem_model.u_fem\n",
    "\n",
    "        if neck_feats == 0:\n",
    "            u_fem = np.array([u_fem]) # this format is needed for NN\n",
    "            if normalize:\n",
    "                u_fem = (u_fem - ham_mean) / (ham_var+epsilon)**0.5            \n",
    "            correction = np.zeros(Ne+1)\n",
    "            correction[1:-1] = hamNN(u_fem)\n",
    "        elif neck_feats == 1: # time\n",
    "            time = np.array([t*k])\n",
    "            if normalize:\n",
    "                u_fem = (u_fem - ham_mean) / (ham_var+epsilon)**0.5\n",
    "                time = (time - ham_mean) / (ham_var+epsilon)**0.5\n",
    "            correction = np.zeros(Ne+1)\n",
    "            \n",
    "            #i=[np.array([u_fem]), np.array([time])]\n",
    "            i=[np.array([u_fem]), np.array([time])]\n",
    "\n",
    "            correction[1:-1] = hamNN(i)\n",
    "      \n",
    "        elif neck_feats == 2: # time and alpha\n",
    "            feats = np.array([t*k, alpha])\n",
    "            if normalize:\n",
    "                u_fem = (u_fem - ham_mean) / (ham_var+epsilon)**0.5\n",
    "                feats = (feats - ham_mean) / (ham_var+epsilon)**0.5\n",
    "            correction = np.zeros(Ne+1)\n",
    "            \n",
    "            i=[np.array([u_fem]), np.array([feats])]\n",
    "\n",
    "            correction[1:-1] = hamNN(i)\n",
    "        else:\n",
    "            raise Exception('not implemented')\n",
    "\n",
    "        if normalize:\n",
    "            correction = correction * (ham_var_Y+epsilon)**0.5 + ham_mean_Y           \n",
    "        fem_model.step(correction=correction*k)\n",
    "        u = fem_model.u_fem     \n",
    "\n",
    "        if 0:#t<8:\n",
    "            plt.plot(tri,u_ex(t=(t+1)*k,x=tri), 'k--', label='exact')\n",
    "            plt.plot(tri,u, 'r', label='ham')\n",
    "            plt.grid()\n",
    "            plt.legend(title=f'sol{sol}t{t}+1')\n",
    "            plt.show()\n",
    "\n",
    "    #plt.plot(tri,u_ex(t=(t+1)*k,x=tri), 'k--', label='exact')\n",
    "    #plt.plot(tri,u, 'r', label='ham')\n",
    "    #plt.grid()\n",
    "    #plt.legend(title=f'sol{sol}t{t}+1')\n",
    "    #plt.show()\n",
    "\n",
    "    plt.plot(tri,u_ex(t=T,x=tri), 'k--', label='exact')\n",
    "    plt.plot(tri,u, 'r', label='ham')\n",
    "    plt.grid()\n",
    "    plt.legend(title=f'sol{sol}t{T}a{alpha}')\n",
    "    plt.show()\n",
    "\n",
    "\n",
    "\n",
    "# start by testing pnn:\n",
    "if 0:\n",
    "    for alpha in alpha_test:\n",
    "        f, u_ex = functions.sbmfact(T,alpha)[sol]\n",
    "        if use_unknown_source:\n",
    "            f = zero_fnc\n",
    "\n",
    "        u = u_ex(x=tri, t=0)\n",
    "\n",
    "\n",
    "        for t in range(time_steps):\n",
    "            u_prev = u # set u_prev (used as model input) as the previous step\n",
    "            u_prev = np.array([u_prev]) # this format is needed for NN\n",
    "            u = u_ex(t=(t+1)*k, x = tri) # set the next u (only boundary is kept, the rest is overwritten)\n",
    "            \n",
    "            if normalize:\n",
    "                for i in range(Ne+1):\n",
    "                    u_prev[0,i] = (u_prev[0,i] - pnn_mean[i]) / (pnn_var[i]+epsilon)**0.5\n",
    "            if neck_feats == 0:\n",
    "                u[1:-1] = pureNN(u_prev)\n",
    "            elif neck_feats == 1:\n",
    "                u[1:-1] = pureNN( [u_prev, [np.array([(t*k-pnn_mean[i+1])/(pnn_var[i+1]+epsilon)**0.5] if normalize else [t*k])]])\n",
    "            elif neck_feats == 2:\n",
    "                u[1:-1] = pureNN( [u_prev, [\n",
    "                    np.array(\n",
    "                        [[(t*k-pnn_mean[i+1])/(pnn_var[i+1]+epsilon)**0.5, (alpha-pnn_mean[i+2])/(pnn_var[i+2]+epsilon)**0.5] if normalize else[t*k, alpha]]\n",
    "                        )\n",
    "                    ]])\n",
    "\n",
    "\n",
    "    plt.plot(tri,u_ex(t=T,x=tri), 'k--', label='exact')\n",
    "    plt.plot(tri,u, 'r', label='pnn')\n",
    "    plt.grid()\n",
    "    plt.legend(title=f'sol{sol}')\n",
    "    plt.show()\n"
   ]
  },
  {
   "cell_type": "code",
   "execution_count": null,
   "metadata": {},
   "outputs": [],
   "source": []
  }
 ],
 "metadata": {
  "interpreter": {
   "hash": "8e999c49d3e0e954f95572b3ac5bbb380a9ec055184a81e8b763c04e54d95247"
  },
  "kernelspec": {
   "display_name": "Python 3.9.7 64-bit ('gen': conda)",
   "name": "python3"
  },
  "language_info": {
   "codemirror_mode": {
    "name": "ipython",
    "version": 3
   },
   "file_extension": ".py",
   "mimetype": "text/x-python",
   "name": "python",
   "nbconvert_exporter": "python",
   "pygments_lexer": "ipython3",
   "version": "3.9.7"
  },
  "orig_nbformat": 4
 },
 "nbformat": 4,
 "nbformat_minor": 2
}
