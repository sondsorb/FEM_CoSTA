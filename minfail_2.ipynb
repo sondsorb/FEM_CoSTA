{
 "cells": [
  {
   "cell_type": "markdown",
   "source": [
    "# Pure NN \n",
    "The goal in this notebook is to reproduce results similar to Sindre Blakseths paper about CoSTA\n",
    "## Contents:\n",
    "- Imports and configs\n",
    "- Data preparation\n",
    "- Model training"
   ],
   "metadata": {}
  },
  {
   "cell_type": "markdown",
   "source": [
    "## Imports and configs"
   ],
   "metadata": {}
  },
  {
   "cell_type": "code",
   "execution_count": 22,
   "source": [
    "import numpy as np\n",
    "from matplotlib import pyplot as plt\n",
    "import tensorflow as tf"
   ],
   "outputs": [],
   "metadata": {}
  },
  {
   "cell_type": "code",
   "execution_count": 23,
   "source": [
    "### Configs for the notebook, changeable\n",
    "\n",
    "# Modelling\n",
    "p=1 # element polynomial order\n",
    "Ne = 20 # number of elements (spacial)\n",
    "T = 5 # Max time\n",
    "time_steps=200 # Number of time steps\n",
    "k = T/time_steps # time step length\n",
    "alpha = 1\n",
    "\n",
    "# NN architecture\n",
    "hidden_layers = 3\n",
    "hidden_layar_depth = 80\n",
    "learning_rate = 1e-4\n",
    "lrelu_slope = 0.01\n",
    "\n",
    "\n",
    "### Constants\n",
    "tri = np.linspace(0,1,Ne+1)"
   ],
   "outputs": [],
   "metadata": {}
  },
  {
   "cell_type": "markdown",
   "source": [
    "## Data prep\n",
    "Making the data sets takes some time, so if this is done already, skip and load below"
   ],
   "metadata": {}
  },
  {
   "cell_type": "code",
   "execution_count": 24,
   "source": [
    "### Make data sets\n",
    "\n",
    "def data_set(alphas):\n",
    "    '''This function makes data set for ham and pnn training/validation with alphas as given\n",
    "    give alpha_train for training data etc.\n",
    "    Data is not shuffled or normalized, nor split in input/output, that should be done later'''\n",
    "    pnn_data = np.zeros((len(alphas)*time_steps, Ne+1 + Ne-1)) #Ne+1 for X, Ne-1 for Y\n",
    "    for i, alpha in enumerate(alphas):\n",
    "\n",
    "        u_ex = lambda x,t=T: 1+np.sin(2*np.pi*t+alpha)*np.cos(2*np.pi*x)\n",
    "        \n",
    "        for t in range(time_steps):\n",
    "            \n",
    "            # we set the pnn_data as the exact temperature u_ex\n",
    "            pnn_data[time_steps*i + t, :Ne+1] = u_ex(x=tri, t=t*k) # input: exact solution\n",
    "            pnn_data[time_steps*i + t, Ne+1:] = u_ex(x=tri[1:-1], t=(t+1)*k) # outout: inner nodes, next step\n",
    "\n",
    "\n",
    "    return pnn_data\n",
    "\n",
    "pnn_train_data = data_set(alpha_test)\n",
    "pnn_val_data = data_set(alpha_val)\n",
    "\n",
    "df_pnn_train = pd.DataFrame(pnn_train_data, columns=[*[f'i{x}' for x in tri],*[f'nf{i}' for i in np.arange(neck_feats)], *[f'o{x}' for x in tri[1:-1]]])\n",
    "df_pnn_val = pd.DataFrame(pnn_val_data, columns=[*[f'i{x}' for x in tri],*[f'nf{i}' for i in np.arange(neck_feats)], *[f'o{x}' for x in tri[1:-1]]])\n",
    "\n"
   ],
   "outputs": [],
   "metadata": {}
  },
  {
   "cell_type": "code",
   "execution_count": 26,
   "source": [
    "### make data sets ready:\n",
    "\n",
    "# As long as val and train is the same alphas, we use the same data\n",
    "if alpha_val == alpha_train:\n",
    "    df_pnn_val = df_pnn_train.copy()\n",
    "\n",
    "# Shuffle\n",
    "df_pnn_train = df_pnn_train.sample(frac=1)\n",
    "df_pnn_val = df_pnn_val.sample(frac=1)\n",
    "\n",
    "# Get numpy arrays\n",
    "pnn_train = df_pnn_train.values\n",
    "pnn_val = df_pnn_val.values\n",
    "\n",
    "# Split intp input (X) and output (Y)\n",
    "pnn_train_X = pnn_train[:, :Ne+1]\n",
    "pnn_train_Y = pnn_train[:, Ne+1:]\n",
    "pnn_val_X = pnn_val[:, :Ne+1]\n",
    "pnn_val_Y = pnn_val[:, Ne+1:]\n",
    "\n",
    "# Normalize, for each input\n",
    "if 0:\n",
    "    pnn_mean= pnn_train_X.mean(0)\n",
    "    pnn_var = pnn_train_X.var(0)\n",
    "    print(pnn_var)\n",
    "    epsilon = 0.001\n",
    "    for i in range(Ne+1)\n",
    "        pnn_train_X[:,i] = (pnn_train_X[:,i]-pnn_mean[i]) / (pnn_var[i]+epsilon)**0.5\n",
    "        pnn_val_X[:,i] = (pnn_val_X[:,i]-pnn_mean[i]) / (pnn_var[i]+epsilon)**0.5"
   ],
   "outputs": [],
   "metadata": {}
  },
  {
   "cell_type": "markdown",
   "source": [
    "## Model initialisation and training"
   ],
   "metadata": {}
  },
  {
   "cell_type": "code",
   "execution_count": 30,
   "source": [
    "def get_model():\n",
    "\n",
    "    inputs = tf.keras.Input(shape=(Ne+1))\n",
    "    x = inputs\n",
    "    for h in range(hidden_layers):\n",
    "        x = tf.keras.layers.Dense(hidden_layar_depth)(x)\n",
    "        x = tf.keras.layers.LeakyReLU(alpha=lrelu_slope)(x)\n",
    "    x = tf.keras.layers.Dense(Ne-1)(x)\n",
    "    model = tf.keras.Model(inputs,x)\n",
    "    model.compile(loss='mse', optimizer = tf.keras.optimizers.Adam(learning_rate=learning_rate))\n",
    "\n",
    "    return model\n",
    "\n",
    "pureNN = get_model()"
   ],
   "outputs": [],
   "metadata": {}
  },
  {
   "cell_type": "code",
   "execution_count": 31,
   "source": [
    "# train\n",
    "pnn_hist = pureNN.fit(x=pnn_train_X, y=pnn_train_Y, epochs=500, verbose=0, batch_size = 32,  validation_data=(pnn_val_X, pnn_val_Y))\n",
    "\n",
    "# plot loss\n",
    "epochs_vector = np.arange(1, len(pnn_hist.history['loss'])+1)\n",
    "plt.plot(epochs_vector, pnn_hist.history['loss'], 'k--', label='train')\n",
    "plt.plot(epochs_vector, pnn_hist.history['val_loss'], 'r', label='valid')\n",
    "plt.yscale('log')\n",
    "plt.grid()\n",
    "plt.legend(title='loss')\n",
    "plt.show()"
   ],
   "outputs": [
    {
     "output_type": "display_data",
     "data": {
      "image/png": "[encoded data removed]",
      "text/plain": [
       "<Figure size 432x288 with 1 Axes>"
      ]
     },
     "metadata": {
      "needs_background": "light"
     }
    }
   ],
   "metadata": {}
  },
  {
   "cell_type": "code",
   "execution_count": null,
   "source": [],
   "outputs": [],
   "metadata": {}
  },
  {
   "cell_type": "markdown",
   "source": [
    "## Testing"
   ],
   "metadata": {}
  },
  {
   "cell_type": "code",
   "execution_count": 32,
   "source": [
    "# start by testing pnn:\n",
    "for alpha in alpha_test:\n",
    "\n",
    "    u_ex = lambda x,t=T: 1+np.sin(2*np.pi*t+alpha)*np.cos(2*np.pi*x)\n",
    "\n",
    "    u = u_ex(x=tri, t=0)\n",
    "\n",
    "\n",
    "    for t in range(time_steps):\n",
    "        u_prev = u # set u_prev (used as model input) as the previous step\n",
    "        u_prev = np.array([u_prev]) # this format is needed for NN\n",
    "        u = u_ex(t=(t+1)*k, x = tri) # set the next u (only boundary is kept, the rest is overwritten)\n",
    "        u[1:-1] = pureNN(u_prev)\n",
    "\n",
    "\n",
    "\n",
    "    plt.plot(tri,u_ex(t=T,x=tri), 'k--', label='exact')\n",
    "    plt.plot(tri,u, 'r', label='pnn')\n",
    "    plt.grid()\n",
    "    plt.legend(title=f'sol{sol}')\n",
    "    plt.show()\n"
   ],
   "outputs": [
    {
     "output_type": "display_data",
     "data": {
      "image/png": "[encoded data removed]",
      "text/plain": [
       "<Figure size 432x288 with 1 Axes>"
      ]
     },
     "metadata": {
      "needs_background": "light"
     }
    }
   ],
   "metadata": {}
  }
 ],
 "metadata": {
  "orig_nbformat": 4,
  "language_info": {
   "name": "python",
   "version": "3.9.7",
   "mimetype": "text/x-python",
   "codemirror_mode": {
    "name": "ipython",
    "version": 3
   },
   "pygments_lexer": "ipython3",
   "nbconvert_exporter": "python",
   "file_extension": ".py"
  },
  "kernelspec": {
   "name": "python3",
   "display_name": "Python 3.9.7 64-bit ('gen': conda)"
  },
  "interpreter": {
   "hash": "feb3b276fb2b853628f41132777e03ec8ba94a0bb3eeeb90aa009c03d48d7b5a"
  }
 },
 "nbformat": 4,
 "nbformat_minor": 2
}